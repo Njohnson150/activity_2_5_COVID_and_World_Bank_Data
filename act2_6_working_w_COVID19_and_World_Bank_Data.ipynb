{
 "cells": [
  {
   "cell_type": "markdown",
   "id": "998f8956",
   "metadata": {},
   "source": [
    "Activity 2.6 -- Working with COVID 19 and World Bank Data\n",
    "=========================================================\n",
    "\n",
    "Our ultimate goal is to explore relationships between various World\n",
    "Bank indicators for countries and their corresponding COVID death rates. In this activity, you will do some preprocessing of the data in preparation for joining the two data sets.\n",
    "\n",
    "## Part 1 -- Downloading the data\n",
    "\n",
    "First you need to download data on COVID-19 (see links and instructions\n",
    "below) and the selected indicators from the Open World Bank data\n",
    "available at <https://data.worldbank.org>.\n",
    "\n",
    "[**COVID data set source**](https://github.com/CSSEGISandData/COVID-19/tree/master/csse_covid_19_data/csse_covid_19_time_series) \n",
    "\n",
    "**Tasks.** Use pandas and dfply to perform each of the following.\n",
    "\n",
    "1.  Download the raw **time\\_series\\_covid19\\_confirmed\\_global.csv**\n",
    "    dataset.\n",
    "\n",
    "2.  Inspect the data and discuss the need to reshape. "
   ]
  },
  {
   "cell_type": "code",
   "execution_count": 1,
   "id": "4ddfec48",
   "metadata": {},
   "outputs": [],
   "source": [
    "# Code for loading and inspecting the CSV file"
   ]
  },
  {
   "cell_type": "markdown",
   "id": "5642f461",
   "metadata": {},
   "source": [
    "> **Your discussion:**"
   ]
  },
  {
   "cell_type": "markdown",
   "id": "73651cae",
   "metadata": {},
   "source": [
    "3.  Write a single pipe that reshapes the data, sets the dtype of the date column, and extracts various date parts.\n",
    "    1. To change the `dtype` of the date column, `date = X.date.astype('datetime64')`\n",
    "    2. To extract the year and month, use the `X.date.dt.year` and `X.date.dt.month` attributes. This will need to happen in a separate `mutate` "
   ]
  },
  {
   "cell_type": "code",
   "execution_count": 2,
   "id": "e6837099",
   "metadata": {},
   "outputs": [],
   "source": [
    "# your code here"
   ]
  },
  {
   "cell_type": "markdown",
   "id": "94570fe0",
   "metadata": {},
   "source": [
    "### World Bank Links Development Indicators\n",
    "\n",
    "<https://databank.worldbank.org/source/world-development-indicators>\n",
    "\n",
    "#### Constructing a data set.\n",
    "\n",
    "First you need to construct a data set as follows\n",
    "\n",
    "1.  Expand the Country tab and select all.\n",
    "\n",
    "<img src=\"./img/media/image1.png\" width=\"300\">\n",
    "\n",
    "2.  Click on the Series tab, search for *Health* and select the\n",
    "    following indicators. **Feel free to add additional indicators!**\n",
    "\n",
    "<img src=\"img/media/image2.png\" width=\"300\">\n",
    "\n",
    "3.  Click on the Time tab and select 2018.\n",
    "\n",
    "4.  Click apply changes in the floating dialog.\n",
    "\n",
    "<img src=\"img/media/image3.png\" width=\"300\">\n",
    "\n",
    "5.  Select CSV from the Download Options button and save the data folder\n",
    "\n",
    "<img src=\"img/media/image4.png\" width=\"100\">"
   ]
  },
  {
   "cell_type": "markdown",
   "id": "1442c18b",
   "metadata": {},
   "source": [
    "#### Tasks\n",
    "\n",
    "Use pandas and dfply to perform each of the following.\n",
    "\n",
    "1.  Inspect the World Bank data and discuss the need to reshape. \n",
    "\n",
    "**Hints:** \n",
    "\n",
    "* You should apply `fix_names` from `more_dfply` to clean up the column names.\n",
    "* This table needs to be reshaped twice\n",
    "\n",
    "\n"
   ]
  },
  {
   "cell_type": "code",
   "execution_count": 3,
   "id": "57b46f90",
   "metadata": {},
   "outputs": [],
   "source": [
    "# Code for loading and inspecting the CSV"
   ]
  },
  {
   "cell_type": "markdown",
   "id": "076f795d",
   "metadata": {},
   "source": [
    "> **Your discussion:**"
   ]
  },
  {
   "cell_type": "markdown",
   "id": "be7ba80f",
   "metadata": {},
   "source": [
    "2.  Write a single pipe that reshapes the data and cleans up the year column.  Be sure to make `year` the correct `dtype`."
   ]
  },
  {
   "cell_type": "code",
   "execution_count": 4,
   "id": "5108d180",
   "metadata": {},
   "outputs": [],
   "source": [
    "# your code here"
   ]
  },
  {
   "cell_type": "markdown",
   "id": "821e6607",
   "metadata": {},
   "source": [
    "## Part 2 -- Investigate joining on country\n",
    "\n",
    "Before we can proceed, we need to make sure that the columns used to join the data--namely the country--actually match.  Do this by\n",
    "\n",
    "1. For each table, select just the country columns and make sure the column names match.\n",
    "2. Add a `file` column to has an entry that corresponds to the data source, e.g., `\"covid\"` or `\"World Bank\"`\n",
    "3. Perform a full outer join and filter on rows that didn't match (i.e. with a missing value in one (but not both) columns).\n",
    "4. Sort the column by the country names and write out the result to a `csv` file.\n",
    "5. Open and inspect the file and identify any mismatches in country name, e.g., `\"Bahamas\"` in the COVID data and `\"Bahamas, The\"` from the World Bank."
   ]
  },
  {
   "cell_type": "code",
   "execution_count": 6,
   "id": "f666948d",
   "metadata": {},
   "outputs": [],
   "source": [
    "# Your code here"
   ]
  },
  {
   "cell_type": "markdown",
   "id": "65dbb5b2",
   "metadata": {},
   "source": [
    "## Part 3 -- Creating a translation dictionary\n",
    "\n",
    "We will need to `recode` one of the data sets to match the other for each mismatch.  I have started this dictionary by making the World Bank entry the key and the COVID entry the value in a dictionary.\n",
    "\n",
    "**Task.** Complete this dictionary by adding additional key-value pairs, one for each country mismatch.  You will have to make some decisions about how to handle odd case.  Record these in comments (for now)."
   ]
  },
  {
   "cell_type": "code",
   "execution_count": null,
   "id": "d1b5c0ef",
   "metadata": {},
   "outputs": [],
   "source": [
    "recode_world_bank = {\"Bahamas, The\":\"Bahamas\",\n",
    "                     \"Brunei Darussalam\":\"Brunei\",\n",
    "                     \"next_world_bank\":\"next_covid_entry\"}"
   ]
  },
  {
   "cell_type": "markdown",
   "id": "f0576992",
   "metadata": {},
   "source": [
    "## Part 4 -- Join and visualize \n",
    "\n",
    "Finally, you should use pandas and dfply to join these two data sets together, then create some interesting visualization using seaborn."
   ]
  },
  {
   "cell_type": "code",
   "execution_count": 6,
   "id": "572f39be",
   "metadata": {},
   "outputs": [],
   "source": [
    "# Your code here"
   ]
  },
  {
   "cell_type": "markdown",
   "id": "e78d83d3",
   "metadata": {},
   "source": [
    "### Deliverables\n",
    "To complete this part of the activity, you need to submit the following.\n",
    "\n",
    "1.  A link to this notebook including all discussion and code requests\n",
    "    above.\n",
    "\n",
    "2.  A csv file containing your final dataset. **Hint.** You can use the\n",
    "    to\\_csv method on the final data frame."
   ]
  },
  {
   "cell_type": "code",
   "execution_count": 7,
   "id": "8de36e7a",
   "metadata": {},
   "outputs": [],
   "source": [
    "# Code for writing the data here"
   ]
  }
 ],
 "metadata": {
  "kernelspec": {
   "display_name": "Python 3 (ipykernel)",
   "language": "python",
   "name": "python3"
  },
  "language_info": {
   "codemirror_mode": {
    "name": "ipython",
    "version": 3
   },
   "file_extension": ".py",
   "mimetype": "text/x-python",
   "name": "python",
   "nbconvert_exporter": "python",
   "pygments_lexer": "ipython3",
   "version": "3.9.12"
  }
 },
 "nbformat": 4,
 "nbformat_minor": 5
}
